{
 "cells": [
  {
   "cell_type": "markdown",
   "metadata": {},
   "source": [
    "## DOI parser\n",
    "\n",
    "Need to have the habanero crossref API library installed\n",
    "\n",
    "https://github.com/sckott/habanero\n",
    "\n",
    "`pip install habanero`\n",
    "\n",
    "https://www.crossref.org/blog/python-and-ruby-libraries-for-accessing-the-crossref-api/"
   ]
  },
  {
   "cell_type": "code",
   "execution_count": 41,
   "metadata": {},
   "outputs": [],
   "source": [
    "from habanero import Crossref\n",
    "cr = Crossref()"
   ]
  },
  {
   "cell_type": "code",
   "execution_count": 42,
   "metadata": {},
   "outputs": [],
   "source": [
    "def findDOI(doi):\n",
    "    x = cr.works(doi)\n",
    "    return x['message']['title']"
   ]
  },
  {
   "cell_type": "markdown",
   "metadata": {},
   "source": [
    "The `x` is a dictionary with all the data stored on crossref, so adapting for other info should be trivial."
   ]
  },
  {
   "cell_type": "markdown",
   "metadata": {},
   "source": [
    "## Adding support for google forms parsing\n",
    "\n",
    "Going for google's documentation we find\n",
    "\n",
    "https://developers.google.com/sheets/api/quickstart/python#step_1_turn_on_the\n",
    "\n",
    "after installing\n",
    "\n",
    "`pip install --upgrade google-api-python-client google-auth-httplib2 google-auth-oauthlib`"
   ]
  },
  {
   "cell_type": "code",
   "execution_count": 43,
   "metadata": {},
   "outputs": [],
   "source": [
    "from __future__ import print_function\n",
    "import pickle\n",
    "import os.path\n",
    "from googleapiclient.discovery import build\n",
    "from google_auth_oauthlib.flow import InstalledAppFlow\n",
    "from google.auth.transport.requests import Request"
   ]
  },
  {
   "cell_type": "code",
   "execution_count": 46,
   "metadata": {},
   "outputs": [
    {
     "name": "stdout",
     "output_type": "stream",
     "text": [
      "Date, Doi:, Title\n",
      "7/25/2020 18:46:04, 10.1063/5.0007045['CP2K: An electronic structure and molecular dynamics software package - Quickstep: Efficient and accurate electronic structure calculations']\n"
     ]
    }
   ],
   "source": [
    "# If modifying these scopes, delete the file token.pickle.\n",
    "SCOPES = ['https://www.googleapis.com/auth/spreadsheets.readonly']\n",
    "\n",
    "# The ID and range of spreadsheet.\n",
    "# To find the ID open the sheet from drive and grab the bit after the general part of the URL\n",
    "SPREADSHEET_ID = '11eN2SVJae-mfhk8Tm9x2VP8EAENRMwsrNstC0HdQYqk'\n",
    "RANGE_NAME = 'Form Responses 1!A1:B2'\n",
    "\n",
    "def main():\n",
    "    \"\"\"Reads spreadsheet from users google drive.\n",
    "    Prints values from the spreadsheet.\n",
    "    Assumes spreadsheet has header line then 2nd column contains DOI\n",
    "    \"\"\"\n",
    "    creds = None\n",
    "    # The file token.pickle stores the user's access and refresh tokens, and is\n",
    "    # created automatically when the authorization flow completes for the first\n",
    "    # time.\n",
    "    if os.path.exists('token.pickle'):\n",
    "        with open('token.pickle', 'rb') as token:\n",
    "            creds = pickle.load(token)\n",
    "    # If there are no (valid) credentials available, let the user log in.\n",
    "    if not creds or not creds.valid:\n",
    "        if creds and creds.expired and creds.refresh_token:\n",
    "            creds.refresh(Request())\n",
    "        else:\n",
    "            flow = InstalledAppFlow.from_client_secrets_file(\n",
    "                'formParser/credentials.json', SCOPES)\n",
    "            creds = flow.run_local_server(port=0)\n",
    "        # Save the credentials for the next run\n",
    "        with open('token.pickle', 'wb') as token:\n",
    "            pickle.dump(creds, token)\n",
    "\n",
    "    service = build('sheets', 'v4', credentials=creds)\n",
    "\n",
    "    # Call the Sheets API\n",
    "    sheet = service.spreadsheets()\n",
    "    result = sheet.values().get(spreadsheetId=SPREADSHEET_ID,\n",
    "                                range=RANGE_NAME).execute()\n",
    "    values = result.get('values', [])\n",
    "\n",
    "    if not values:\n",
    "        print('No data found.')\n",
    "    else:\n",
    "        print('Date, Doi:, Title')\n",
    "        skipFirstRow = True\n",
    "        for row in values:\n",
    "            if skipFirstRow:\n",
    "                skipFirstRow = False\n",
    "                next\n",
    "            else:\n",
    "                # Print columns A and B, which correspond to indices 0 and 1 and tile of paper.\n",
    "                title = findDOI(row[1])\n",
    "                print('%s, %s' '%s' % (row[0], row[1], title))\n",
    "\n",
    "if __name__ == '__main__':\n",
    "    main()"
   ]
  }
 ],
 "metadata": {
  "kernelspec": {
   "display_name": "Python 3",
   "language": "python",
   "name": "python3"
  },
  "language_info": {
   "codemirror_mode": {
    "name": "ipython",
    "version": 3
   },
   "file_extension": ".py",
   "mimetype": "text/x-python",
   "name": "python",
   "nbconvert_exporter": "python",
   "pygments_lexer": "ipython3",
   "version": "3.8.3"
  }
 },
 "nbformat": 4,
 "nbformat_minor": 4
}
